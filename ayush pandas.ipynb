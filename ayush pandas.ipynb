{
 "cells": [
  {
   "cell_type": "code",
   "execution_count": null,
   "id": "7a307b80-0983-44e3-a5a4-e049eacf3ed5",
   "metadata": {},
   "outputs": [
    {
     "name": "stdout",
     "output_type": "stream",
     "text": [
      "          Model  Year         Region   Color Fuel_Type Transmission  \\\n",
      "0      5 Series  2016           Asia     Red    Petrol       Manual   \n",
      "1            i8  2013  North America     Red    Hybrid    Automatic   \n",
      "2      5 Series  2022  North America    Blue    Petrol    Automatic   \n",
      "3            X3  2024    Middle East    Blue    Petrol    Automatic   \n",
      "4      7 Series  2020  South America   Black    Diesel       Manual   \n",
      "...         ...   ...            ...     ...       ...          ...   \n",
      "49995        i3  2014           Asia     Red    Hybrid       Manual   \n",
      "49996        i3  2023    Middle East  Silver  Electric       Manual   \n",
      "49997  5 Series  2010    Middle East     Red    Petrol    Automatic   \n",
      "49998        i3  2020           Asia   White  Electric    Automatic   \n",
      "49999        X1  2020  North America    Blue    Diesel       Manual   \n",
      "\n",
      "       Engine_Size_L  Mileage_KM  Price_USD  Sales_Volume Sales_Classification  \n",
      "0                3.5      151748      98740          8300                 High  \n",
      "1                1.6      121671      79219          3428                  Low  \n",
      "2                4.5       10991     113265          6994                  Low  \n",
      "3                1.7       27255      60971          4047                  Low  \n",
      "4                2.1      122131      49898          3080                  Low  \n",
      "...              ...         ...        ...           ...                  ...  \n",
      "49995            4.6      151030      42932          8182                 High  \n",
      "49996            4.2      147396      48714          9816                 High  \n",
      "49997            4.5      174939      46126          8280                 High  \n",
      "49998            3.8        3379      58566          9486                 High  \n",
      "49999            3.3      171003      77492          1764                  Low  \n",
      "\n",
      "[50000 rows x 11 columns]\n"
     ]
    }
   ],
   "source": [
    "df = pd.read_csv(r\"C:\\Users\\user\\Downloads\\BMW sales data (2010-2024) (1).csv\")\n",
    "print (df)"
   ]
  },
  {
   "cell_type": "code",
   "execution_count": null,
   "id": "ef5fbcfa-b8b5-46e4-b8dd-afbc6822a445",
   "metadata": {},
   "outputs": [
    {
     "name": "stdout",
     "output_type": "stream",
     "text": [
      "      Model  Year         Region  Color Fuel_Type Transmission  Engine_Size_L  \\\n",
      "0  5 Series  2016           Asia    Red    Petrol       Manual            3.5   \n",
      "1        i8  2013  North America    Red    Hybrid    Automatic            1.6   \n",
      "2  5 Series  2022  North America   Blue    Petrol    Automatic            4.5   \n",
      "3        X3  2024    Middle East   Blue    Petrol    Automatic            1.7   \n",
      "4  7 Series  2020  South America  Black    Diesel       Manual            2.1   \n",
      "\n",
      "   Mileage_KM  Price_USD  Sales_Volume Sales_Classification  \n",
      "0      151748      98740          8300                 High  \n",
      "1      121671      79219          3428                  Low  \n",
      "2       10991     113265          6994                  Low  \n",
      "3       27255      60971          4047                  Low  \n",
      "4      122131      49898          3080                  Low  \n"
     ]
    }
   ],
   "source": [
    "print(df.head())"
   ]
  },
  {
   "cell_type": "code",
   "execution_count": null,
   "id": "b365ed89-7dd3-40c5-a443-0fdb31249146",
   "metadata": {},
   "outputs": [
    {
     "name": "stdout",
     "output_type": "stream",
     "text": [
      "<class 'pandas.core.frame.DataFrame'>\n",
      "RangeIndex: 50000 entries, 0 to 49999\n",
      "Data columns (total 11 columns):\n",
      " #   Column                Non-Null Count  Dtype  \n",
      "---  ------                --------------  -----  \n",
      " 0   Model                 50000 non-null  object \n",
      " 1   Year                  50000 non-null  int64  \n",
      " 2   Region                50000 non-null  object \n",
      " 3   Color                 50000 non-null  object \n",
      " 4   Fuel_Type             50000 non-null  object \n",
      " 5   Transmission          50000 non-null  object \n",
      " 6   Engine_Size_L         50000 non-null  float64\n",
      " 7   Mileage_KM            50000 non-null  int64  \n",
      " 8   Price_USD             50000 non-null  int64  \n",
      " 9   Sales_Volume          50000 non-null  int64  \n",
      " 10  Sales_Classification  50000 non-null  object \n",
      "dtypes: float64(1), int64(4), object(6)\n",
      "memory usage: 4.2+ MB\n",
      "None\n"
     ]
    }
   ],
   "source": [
    "print(df.info())\n"
   ]
  },
  {
   "cell_type": "code",
   "execution_count": null,
   "id": "3f7b50d6-98db-44c6-8d88-1ab65a270a3d",
   "metadata": {},
   "outputs": [
    {
     "name": "stdout",
     "output_type": "stream",
     "text": [
      "               Year  Engine_Size_L     Mileage_KM      Price_USD  Sales_Volume\n",
      "count  50000.000000   50000.000000   50000.000000   50000.000000  50000.000000\n",
      "mean    2017.015700       3.247180  100307.203140   75034.600900   5067.514680\n",
      "std        4.324459       1.009078   57941.509344   25998.248882   2856.767125\n",
      "min     2010.000000       1.500000       3.000000   30000.000000    100.000000\n",
      "25%     2013.000000       2.400000   50178.000000   52434.750000   2588.000000\n",
      "50%     2017.000000       3.200000  100388.500000   75011.500000   5087.000000\n",
      "75%     2021.000000       4.100000  150630.250000   97628.250000   7537.250000\n",
      "max     2024.000000       5.000000  199996.000000  119998.000000   9999.000000\n"
     ]
    }
   ],
   "source": [
    "# Step 5: Summary statistic\n",
    "print(df.describe())"
   ]
  },
  {
   "cell_type": "code",
   "execution_count": null,
   "id": "a827c3a3-38a0-4986-8492-7399f7d6f16f",
   "metadata": {},
   "outputs": [
    {
     "name": "stdout",
     "output_type": "stream",
     "text": [
      "\n",
      "Missing values:\n",
      "Model                   0\n",
      "Year                    0\n",
      "Region                  0\n",
      "Color                   0\n",
      "Fuel_Type               0\n",
      "Transmission            0\n",
      "Engine_Size_L           0\n",
      "Mileage_KM              0\n",
      "Price_USD               0\n",
      "Sales_Volume            0\n",
      "Sales_Classification    0\n",
      "dtype: int64\n"
     ]
    }
   ],
   "source": [
    "# Step 6: Check for missing values\n",
    "print(\"\\nMissing values:\")\n",
    "print(df.isnull().sum())\n"
   ]
  },
  {
   "cell_type": "code",
   "execution_count": null,
   "id": "cea13b1c-a9ea-4361-8292-46bbe2c20b42",
   "metadata": {},
   "outputs": [
    {
     "data": {
      "text/html": [
       "<div>\n",
       "<style scoped>\n",
       "    .dataframe tbody tr th:only-of-type {\n",
       "        vertical-align: middle;\n",
       "    }\n",
       "\n",
       "    .dataframe tbody tr th {\n",
       "        vertical-align: top;\n",
       "    }\n",
       "\n",
       "    .dataframe thead th {\n",
       "        text-align: right;\n",
       "    }\n",
       "</style>\n",
       "<table border=\"1\" class=\"dataframe\">\n",
       "  <thead>\n",
       "    <tr style=\"text-align: right;\">\n",
       "      <th></th>\n",
       "      <th>Model</th>\n",
       "      <th>Year</th>\n",
       "      <th>Region</th>\n",
       "      <th>Color</th>\n",
       "      <th>Fuel_Type</th>\n",
       "      <th>Transmission</th>\n",
       "      <th>Engine_Size_L</th>\n",
       "      <th>Mileage_KM</th>\n",
       "      <th>Price_USD</th>\n",
       "      <th>Sales_Volume</th>\n",
       "      <th>Sales_Classification</th>\n",
       "    </tr>\n",
       "  </thead>\n",
       "  <tbody>\n",
       "    <tr>\n",
       "      <th>49980</th>\n",
       "      <td>i3</td>\n",
       "      <td>2022</td>\n",
       "      <td>Asia</td>\n",
       "      <td>White</td>\n",
       "      <td>Hybrid</td>\n",
       "      <td>Automatic</td>\n",
       "      <td>5.0</td>\n",
       "      <td>38575</td>\n",
       "      <td>112981</td>\n",
       "      <td>6123</td>\n",
       "      <td>Low</td>\n",
       "    </tr>\n",
       "    <tr>\n",
       "      <th>49981</th>\n",
       "      <td>M3</td>\n",
       "      <td>2013</td>\n",
       "      <td>Europe</td>\n",
       "      <td>Silver</td>\n",
       "      <td>Hybrid</td>\n",
       "      <td>Manual</td>\n",
       "      <td>1.7</td>\n",
       "      <td>128784</td>\n",
       "      <td>47367</td>\n",
       "      <td>3936</td>\n",
       "      <td>Low</td>\n",
       "    </tr>\n",
       "    <tr>\n",
       "      <th>49982</th>\n",
       "      <td>M3</td>\n",
       "      <td>2024</td>\n",
       "      <td>Asia</td>\n",
       "      <td>Silver</td>\n",
       "      <td>Hybrid</td>\n",
       "      <td>Automatic</td>\n",
       "      <td>1.7</td>\n",
       "      <td>198846</td>\n",
       "      <td>85034</td>\n",
       "      <td>7888</td>\n",
       "      <td>High</td>\n",
       "    </tr>\n",
       "    <tr>\n",
       "      <th>49983</th>\n",
       "      <td>3 Series</td>\n",
       "      <td>2019</td>\n",
       "      <td>South America</td>\n",
       "      <td>Silver</td>\n",
       "      <td>Hybrid</td>\n",
       "      <td>Automatic</td>\n",
       "      <td>1.8</td>\n",
       "      <td>123127</td>\n",
       "      <td>63197</td>\n",
       "      <td>3146</td>\n",
       "      <td>Low</td>\n",
       "    </tr>\n",
       "    <tr>\n",
       "      <th>49984</th>\n",
       "      <td>5 Series</td>\n",
       "      <td>2019</td>\n",
       "      <td>North America</td>\n",
       "      <td>White</td>\n",
       "      <td>Diesel</td>\n",
       "      <td>Manual</td>\n",
       "      <td>4.5</td>\n",
       "      <td>48562</td>\n",
       "      <td>31520</td>\n",
       "      <td>7108</td>\n",
       "      <td>High</td>\n",
       "    </tr>\n",
       "    <tr>\n",
       "      <th>49985</th>\n",
       "      <td>M3</td>\n",
       "      <td>2013</td>\n",
       "      <td>North America</td>\n",
       "      <td>Blue</td>\n",
       "      <td>Diesel</td>\n",
       "      <td>Automatic</td>\n",
       "      <td>4.1</td>\n",
       "      <td>187308</td>\n",
       "      <td>72924</td>\n",
       "      <td>8236</td>\n",
       "      <td>High</td>\n",
       "    </tr>\n",
       "    <tr>\n",
       "      <th>49986</th>\n",
       "      <td>X3</td>\n",
       "      <td>2018</td>\n",
       "      <td>Middle East</td>\n",
       "      <td>Grey</td>\n",
       "      <td>Petrol</td>\n",
       "      <td>Manual</td>\n",
       "      <td>4.9</td>\n",
       "      <td>16401</td>\n",
       "      <td>66446</td>\n",
       "      <td>9916</td>\n",
       "      <td>High</td>\n",
       "    </tr>\n",
       "    <tr>\n",
       "      <th>49987</th>\n",
       "      <td>M3</td>\n",
       "      <td>2017</td>\n",
       "      <td>Asia</td>\n",
       "      <td>Black</td>\n",
       "      <td>Hybrid</td>\n",
       "      <td>Manual</td>\n",
       "      <td>1.7</td>\n",
       "      <td>9311</td>\n",
       "      <td>56421</td>\n",
       "      <td>1216</td>\n",
       "      <td>Low</td>\n",
       "    </tr>\n",
       "    <tr>\n",
       "      <th>49988</th>\n",
       "      <td>X5</td>\n",
       "      <td>2013</td>\n",
       "      <td>South America</td>\n",
       "      <td>Grey</td>\n",
       "      <td>Hybrid</td>\n",
       "      <td>Manual</td>\n",
       "      <td>3.9</td>\n",
       "      <td>177571</td>\n",
       "      <td>73736</td>\n",
       "      <td>2041</td>\n",
       "      <td>Low</td>\n",
       "    </tr>\n",
       "    <tr>\n",
       "      <th>49989</th>\n",
       "      <td>5 Series</td>\n",
       "      <td>2015</td>\n",
       "      <td>Africa</td>\n",
       "      <td>Grey</td>\n",
       "      <td>Electric</td>\n",
       "      <td>Manual</td>\n",
       "      <td>3.4</td>\n",
       "      <td>148049</td>\n",
       "      <td>90050</td>\n",
       "      <td>7710</td>\n",
       "      <td>High</td>\n",
       "    </tr>\n",
       "    <tr>\n",
       "      <th>49990</th>\n",
       "      <td>3 Series</td>\n",
       "      <td>2016</td>\n",
       "      <td>North America</td>\n",
       "      <td>Grey</td>\n",
       "      <td>Petrol</td>\n",
       "      <td>Automatic</td>\n",
       "      <td>3.7</td>\n",
       "      <td>199549</td>\n",
       "      <td>73173</td>\n",
       "      <td>9181</td>\n",
       "      <td>High</td>\n",
       "    </tr>\n",
       "    <tr>\n",
       "      <th>49991</th>\n",
       "      <td>X5</td>\n",
       "      <td>2019</td>\n",
       "      <td>Asia</td>\n",
       "      <td>White</td>\n",
       "      <td>Diesel</td>\n",
       "      <td>Automatic</td>\n",
       "      <td>3.3</td>\n",
       "      <td>162639</td>\n",
       "      <td>33217</td>\n",
       "      <td>1904</td>\n",
       "      <td>Low</td>\n",
       "    </tr>\n",
       "    <tr>\n",
       "      <th>49992</th>\n",
       "      <td>i3</td>\n",
       "      <td>2017</td>\n",
       "      <td>Middle East</td>\n",
       "      <td>Blue</td>\n",
       "      <td>Petrol</td>\n",
       "      <td>Automatic</td>\n",
       "      <td>3.9</td>\n",
       "      <td>79874</td>\n",
       "      <td>115046</td>\n",
       "      <td>9015</td>\n",
       "      <td>High</td>\n",
       "    </tr>\n",
       "    <tr>\n",
       "      <th>49993</th>\n",
       "      <td>5 Series</td>\n",
       "      <td>2013</td>\n",
       "      <td>Europe</td>\n",
       "      <td>Grey</td>\n",
       "      <td>Petrol</td>\n",
       "      <td>Manual</td>\n",
       "      <td>4.7</td>\n",
       "      <td>155013</td>\n",
       "      <td>80263</td>\n",
       "      <td>3700</td>\n",
       "      <td>Low</td>\n",
       "    </tr>\n",
       "    <tr>\n",
       "      <th>49994</th>\n",
       "      <td>5 Series</td>\n",
       "      <td>2010</td>\n",
       "      <td>North America</td>\n",
       "      <td>Silver</td>\n",
       "      <td>Petrol</td>\n",
       "      <td>Manual</td>\n",
       "      <td>3.6</td>\n",
       "      <td>56672</td>\n",
       "      <td>32990</td>\n",
       "      <td>1575</td>\n",
       "      <td>Low</td>\n",
       "    </tr>\n",
       "    <tr>\n",
       "      <th>49995</th>\n",
       "      <td>i3</td>\n",
       "      <td>2014</td>\n",
       "      <td>Asia</td>\n",
       "      <td>Red</td>\n",
       "      <td>Hybrid</td>\n",
       "      <td>Manual</td>\n",
       "      <td>4.6</td>\n",
       "      <td>151030</td>\n",
       "      <td>42932</td>\n",
       "      <td>8182</td>\n",
       "      <td>High</td>\n",
       "    </tr>\n",
       "    <tr>\n",
       "      <th>49996</th>\n",
       "      <td>i3</td>\n",
       "      <td>2023</td>\n",
       "      <td>Middle East</td>\n",
       "      <td>Silver</td>\n",
       "      <td>Electric</td>\n",
       "      <td>Manual</td>\n",
       "      <td>4.2</td>\n",
       "      <td>147396</td>\n",
       "      <td>48714</td>\n",
       "      <td>9816</td>\n",
       "      <td>High</td>\n",
       "    </tr>\n",
       "    <tr>\n",
       "      <th>49997</th>\n",
       "      <td>5 Series</td>\n",
       "      <td>2010</td>\n",
       "      <td>Middle East</td>\n",
       "      <td>Red</td>\n",
       "      <td>Petrol</td>\n",
       "      <td>Automatic</td>\n",
       "      <td>4.5</td>\n",
       "      <td>174939</td>\n",
       "      <td>46126</td>\n",
       "      <td>8280</td>\n",
       "      <td>High</td>\n",
       "    </tr>\n",
       "    <tr>\n",
       "      <th>49998</th>\n",
       "      <td>i3</td>\n",
       "      <td>2020</td>\n",
       "      <td>Asia</td>\n",
       "      <td>White</td>\n",
       "      <td>Electric</td>\n",
       "      <td>Automatic</td>\n",
       "      <td>3.8</td>\n",
       "      <td>3379</td>\n",
       "      <td>58566</td>\n",
       "      <td>9486</td>\n",
       "      <td>High</td>\n",
       "    </tr>\n",
       "    <tr>\n",
       "      <th>49999</th>\n",
       "      <td>X1</td>\n",
       "      <td>2020</td>\n",
       "      <td>North America</td>\n",
       "      <td>Blue</td>\n",
       "      <td>Diesel</td>\n",
       "      <td>Manual</td>\n",
       "      <td>3.3</td>\n",
       "      <td>171003</td>\n",
       "      <td>77492</td>\n",
       "      <td>1764</td>\n",
       "      <td>Low</td>\n",
       "    </tr>\n",
       "  </tbody>\n",
       "</table>\n",
       "</div>"
      ],
      "text/plain": [
       "          Model  Year         Region   Color Fuel_Type Transmission  \\\n",
       "49980        i3  2022           Asia   White    Hybrid    Automatic   \n",
       "49981        M3  2013         Europe  Silver    Hybrid       Manual   \n",
       "49982        M3  2024           Asia  Silver    Hybrid    Automatic   \n",
       "49983  3 Series  2019  South America  Silver    Hybrid    Automatic   \n",
       "49984  5 Series  2019  North America   White    Diesel       Manual   \n",
       "49985        M3  2013  North America    Blue    Diesel    Automatic   \n",
       "49986        X3  2018    Middle East    Grey    Petrol       Manual   \n",
       "49987        M3  2017           Asia   Black    Hybrid       Manual   \n",
       "49988        X5  2013  South America    Grey    Hybrid       Manual   \n",
       "49989  5 Series  2015         Africa    Grey  Electric       Manual   \n",
       "49990  3 Series  2016  North America    Grey    Petrol    Automatic   \n",
       "49991        X5  2019           Asia   White    Diesel    Automatic   \n",
       "49992        i3  2017    Middle East    Blue    Petrol    Automatic   \n",
       "49993  5 Series  2013         Europe    Grey    Petrol       Manual   \n",
       "49994  5 Series  2010  North America  Silver    Petrol       Manual   \n",
       "49995        i3  2014           Asia     Red    Hybrid       Manual   \n",
       "49996        i3  2023    Middle East  Silver  Electric       Manual   \n",
       "49997  5 Series  2010    Middle East     Red    Petrol    Automatic   \n",
       "49998        i3  2020           Asia   White  Electric    Automatic   \n",
       "49999        X1  2020  North America    Blue    Diesel       Manual   \n",
       "\n",
       "       Engine_Size_L  Mileage_KM  Price_USD  Sales_Volume Sales_Classification  \n",
       "49980            5.0       38575     112981          6123                  Low  \n",
       "49981            1.7      128784      47367          3936                  Low  \n",
       "49982            1.7      198846      85034          7888                 High  \n",
       "49983            1.8      123127      63197          3146                  Low  \n",
       "49984            4.5       48562      31520          7108                 High  \n",
       "49985            4.1      187308      72924          8236                 High  \n",
       "49986            4.9       16401      66446          9916                 High  \n",
       "49987            1.7        9311      56421          1216                  Low  \n",
       "49988            3.9      177571      73736          2041                  Low  \n",
       "49989            3.4      148049      90050          7710                 High  \n",
       "49990            3.7      199549      73173          9181                 High  \n",
       "49991            3.3      162639      33217          1904                  Low  \n",
       "49992            3.9       79874     115046          9015                 High  \n",
       "49993            4.7      155013      80263          3700                  Low  \n",
       "49994            3.6       56672      32990          1575                  Low  \n",
       "49995            4.6      151030      42932          8182                 High  \n",
       "49996            4.2      147396      48714          9816                 High  \n",
       "49997            4.5      174939      46126          8280                 High  \n",
       "49998            3.8        3379      58566          9486                 High  \n",
       "49999            3.3      171003      77492          1764                  Low  "
      ]
     },
     "execution_count": 27,
     "metadata": {},
     "output_type": "execute_result"
    }
   ],
   "source": [
    "df.tail(20)"
   ]
  },
  {
   "cell_type": "code",
   "execution_count": null,
   "id": "1643838b-d378-4722-a8f3-810a1b561c4d",
   "metadata": {},
   "outputs": [
    {
     "data": {
      "text/plain": [
       "(50000, 11)"
      ]
     },
     "execution_count": 28,
     "metadata": {},
     "output_type": "execute_result"
    }
   ],
   "source": [
    "df.shape"
   ]
  },
  {
   "cell_type": "code",
   "execution_count": null,
   "id": "acbab93f-4522-43fa-9f5d-0aeeb0cc49e1",
   "metadata": {},
   "outputs": [
    {
     "data": {
      "text/plain": [
       "Index(['Model', 'Year', 'Region', 'Color', 'Fuel_Type', 'Transmission',\n",
       "       'Engine_Size_L', 'Mileage_KM', 'Price_USD', 'Sales_Volume',\n",
       "       'Sales_Classification'],\n",
       "      dtype='object')"
      ]
     },
     "execution_count": 30,
     "metadata": {},
     "output_type": "execute_result"
    }
   ],
   "source": [
    "df.columns"
   ]
  },
  {
   "cell_type": "code",
   "execution_count": null,
   "id": "765c021a-f2ad-4e8d-b3da-78419c3c955c",
   "metadata": {},
   "outputs": [
    {
     "data": {
      "text/plain": [
       "array([['5 Series', 2016, 'Asia', ..., 98740, 8300, 'High'],\n",
       "       ['i8', 2013, 'North America', ..., 79219, 3428, 'Low'],\n",
       "       ['5 Series', 2022, 'North America', ..., 113265, 6994, 'Low'],\n",
       "       ...,\n",
       "       ['5 Series', 2010, 'Middle East', ..., 46126, 8280, 'High'],\n",
       "       ['i3', 2020, 'Asia', ..., 58566, 9486, 'High'],\n",
       "       ['X1', 2020, 'North America', ..., 77492, 1764, 'Low']],\n",
       "      shape=(50000, 11), dtype=object)"
      ]
     },
     "execution_count": 31,
     "metadata": {},
     "output_type": "execute_result"
    }
   ],
   "source": [
    "df.values"
   ]
  },
  {
   "cell_type": "code",
   "execution_count": null,
   "id": "c2c4a101-064c-4280-874e-75d212067e64",
   "metadata": {},
   "outputs": [
    {
     "data": {
      "text/plain": [
       "Model                    object\n",
       "Year                      int64\n",
       "Region                   object\n",
       "Color                    object\n",
       "Fuel_Type                object\n",
       "Transmission             object\n",
       "Engine_Size_L           float64\n",
       "Mileage_KM                int64\n",
       "Price_USD                 int64\n",
       "Sales_Volume              int64\n",
       "Sales_Classification     object\n",
       "dtype: object"
      ]
     },
     "execution_count": 32,
     "metadata": {},
     "output_type": "execute_result"
    }
   ],
   "source": [
    "df.dtypes"
   ]
  },
  {
   "cell_type": "code",
   "execution_count": null,
   "id": "8925b7ce-ed12-4073-a4fd-b76e5f91989f",
   "metadata": {},
   "outputs": [
    {
     "name": "stdout",
     "output_type": "stream",
     "text": [
      "       Year         Region   Color Fuel_Type Transmission  Engine_Size_L  \\\n",
      "0      2016           Asia     Red    Petrol       Manual            3.5   \n",
      "1      2013  North America     Red    Hybrid    Automatic            1.6   \n",
      "2      2022  North America    Blue    Petrol    Automatic            4.5   \n",
      "3      2024    Middle East    Blue    Petrol    Automatic            1.7   \n",
      "4      2020  South America   Black    Diesel       Manual            2.1   \n",
      "...     ...            ...     ...       ...          ...            ...   \n",
      "49995  2014           Asia     Red    Hybrid       Manual            4.6   \n",
      "49996  2023    Middle East  Silver  Electric       Manual            4.2   \n",
      "49997  2010    Middle East     Red    Petrol    Automatic            4.5   \n",
      "49998  2020           Asia   White  Electric    Automatic            3.8   \n",
      "49999  2020  North America    Blue    Diesel       Manual            3.3   \n",
      "\n",
      "       Mileage_KM  Price_USD  Sales_Volume Sales_Classification  \n",
      "0          151748      98740          8300                 High  \n",
      "1          121671      79219          3428                  Low  \n",
      "2           10991     113265          6994                  Low  \n",
      "3           27255      60971          4047                  Low  \n",
      "4          122131      49898          3080                  Low  \n",
      "...           ...        ...           ...                  ...  \n",
      "49995      151030      42932          8182                 High  \n",
      "49996      147396      48714          9816                 High  \n",
      "49997      174939      46126          8280                 High  \n",
      "49998        3379      58566          9486                 High  \n",
      "49999      171003      77492          1764                  Low  \n",
      "\n",
      "[50000 rows x 10 columns]\n"
     ]
    }
   ],
   "source": [
    "a=df.drop(columns=['Model'])\n",
    "print(a)"
   ]
  },
  {
   "cell_type": "code",
   "execution_count": null,
   "id": "5d93d03f-02a8-403b-bb49-7fc4e534200c",
   "metadata": {},
   "outputs": [
    {
     "name": "stdout",
     "output_type": "stream",
     "text": [
      "          Model  Year         Region   Color Fuel_Type Transmission  \\\n",
      "0      5 Series  2016           Asia     Red    Petrol       Manual   \n",
      "1            i8  2013  North America     Red    Hybrid    Automatic   \n",
      "2      5 Series  2022  North America    Blue    Petrol    Automatic   \n",
      "3            X3  2024    Middle East    Blue    Petrol    Automatic   \n",
      "4      7 Series  2020  South America   Black    Diesel       Manual   \n",
      "...         ...   ...            ...     ...       ...          ...   \n",
      "49995        i3  2014           Asia     Red    Hybrid       Manual   \n",
      "49996        i3  2023    Middle East  Silver  Electric       Manual   \n",
      "49997  5 Series  2010    Middle East     Red    Petrol    Automatic   \n",
      "49998        i3  2020           Asia   White  Electric    Automatic   \n",
      "49999        X1  2020  North America    Blue    Diesel       Manual   \n",
      "\n",
      "       Engine_Size_L  Mileage_KM  Price_USD  Sales Sales_Classification  \n",
      "0                3.5      151748      98740   8300                 High  \n",
      "1                1.6      121671      79219   3428                  Low  \n",
      "2                4.5       10991     113265   6994                  Low  \n",
      "3                1.7       27255      60971   4047                  Low  \n",
      "4                2.1      122131      49898   3080                  Low  \n",
      "...              ...         ...        ...    ...                  ...  \n",
      "49995            4.6      151030      42932   8182                 High  \n",
      "49996            4.2      147396      48714   9816                 High  \n",
      "49997            4.5      174939      46126   8280                 High  \n",
      "49998            3.8        3379      58566   9486                 High  \n",
      "49999            3.3      171003      77492   1764                  Low  \n",
      "\n",
      "[50000 rows x 11 columns]\n"
     ]
    }
   ],
   "source": [
    "a=df.rename(columns={'Sales_Volume':'Sales'})\n",
    "print(a)"
   ]
  },
  {
   "cell_type": "code",
   "execution_count": null,
   "id": "d3641088-abbc-43ea-9b42-18b9c349f954",
   "metadata": {},
   "outputs": [
    {
     "name": "stdout",
     "output_type": "stream",
     "text": [
      "          Model  Year         Region   Color Fuel_Type Transmission  \\\n",
      "5291         i3  2010         Africa   White    Petrol       Manual   \n",
      "7780   5 Series  2018  South America    Blue    Petrol    Automatic   \n",
      "23362  7 Series  2015  North America  Silver    Hybrid    Automatic   \n",
      "17180        X5  2017           Asia  Silver    Petrol    Automatic   \n",
      "20924  3 Series  2016         Europe     Red    Petrol    Automatic   \n",
      "...         ...   ...            ...     ...       ...          ...   \n",
      "22741        X5  2021           Asia    Blue    Hybrid    Automatic   \n",
      "48848        i3  2020    Middle East   Black    Petrol    Automatic   \n",
      "3681   7 Series  2024    Middle East   White  Electric       Manual   \n",
      "17872        X5  2016         Africa    Grey    Diesel       Manual   \n",
      "1009         X3  2011         Europe  Silver    Hybrid    Automatic   \n",
      "\n",
      "       Engine_Size_L  Mileage_KM  Price_USD  Sales_Volume Sales_Classification  \n",
      "5291             2.8           3      93933          5336                  Low  \n",
      "7780             4.5          21      55195          9860                 High  \n",
      "23362            2.4          23      78427           348                  Low  \n",
      "17180            3.4          29      65476          6454                  Low  \n",
      "20924            2.7          36     114661          5912                  Low  \n",
      "...              ...         ...        ...           ...                  ...  \n",
      "22741            3.8      199979     106046          5681                  Low  \n",
      "48848            1.6      199987      99357          1721                  Low  \n",
      "3681             3.0      199991      35172          2178                  Low  \n",
      "17872            3.8      199995     111226          2362                  Low  \n",
      "1009             3.8      199996      50904          3775                  Low  \n",
      "\n",
      "[50000 rows x 11 columns]\n"
     ]
    }
   ],
   "source": [
    "a=df.sort_values(by='Mileage_KM')\n",
    "print(a)"
   ]
  },
  {
   "cell_type": "code",
   "execution_count": null,
   "id": "986d49bd-eb2e-432e-8535-91174be5dd52",
   "metadata": {},
   "outputs": [
    {
     "name": "stdout",
     "output_type": "stream",
     "text": [
      "          Model  Year         Region   Color Fuel_Type Transmission  \\\n",
      "0      5 Series  2016           Asia     Red    Petrol       Manual   \n",
      "1            i8  2013  North America     Red    Hybrid    Automatic   \n",
      "2      5 Series  2022  North America    Blue    Petrol    Automatic   \n",
      "3            X3  2024    Middle East    Blue    Petrol    Automatic   \n",
      "4      7 Series  2020  South America   Black    Diesel       Manual   \n",
      "...         ...   ...            ...     ...       ...          ...   \n",
      "49995        i3  2014           Asia     Red    Hybrid       Manual   \n",
      "49996        i3  2023    Middle East  Silver  Electric       Manual   \n",
      "49997  5 Series  2010    Middle East     Red    Petrol    Automatic   \n",
      "49998        i3  2020           Asia   White  Electric    Automatic   \n",
      "49999        X1  2020  North America    Blue    Diesel       Manual   \n",
      "\n",
      "       Engine_Size_L  Mileage_KM  Price_USD  Sales_Volume Sales_Classification  \n",
      "0                3.5      151748      98740          8300                 High  \n",
      "1                1.6      121671      79219          3428                  Low  \n",
      "2                4.5       10991     113265          6994                  Low  \n",
      "3                1.7       27255      60971          4047                  Low  \n",
      "4                2.1      122131      49898          3080                  Low  \n",
      "...              ...         ...        ...           ...                  ...  \n",
      "49995            4.6      151030      42932          8182                 High  \n",
      "49996            4.2      147396      48714          9816                 High  \n",
      "49997            4.5      174939      46126          8280                 High  \n",
      "49998            3.8        3379      58566          9486                 High  \n",
      "49999            3.3      171003      77492          1764                  Low  \n",
      "\n",
      "[50000 rows x 11 columns]\n"
     ]
    }
   ],
   "source": [
    "a=df.drop_duplicates()\n",
    "print(a)"
   ]
  },
  {
   "cell_type": "code",
   "execution_count": null,
   "id": "494312cb-49ef-41d0-bbe3-a62fa462aa73",
   "metadata": {},
   "outputs": [
    {
     "name": "stdout",
     "output_type": "stream",
     "text": [
      "          Model  Year         Region   Color Fuel_Type Transmission  \\\n",
      "0      5 Series  2016           Asia     Red    Petrol       Manual   \n",
      "1            i8  2013  North America     Red    Hybrid    Automatic   \n",
      "2      5 Series  2022  North America    Blue    Petrol    Automatic   \n",
      "3            X3  2024    Middle East    Blue    Petrol    Automatic   \n",
      "4      7 Series  2020  South America   Black    Diesel       Manual   \n",
      "...         ...   ...            ...     ...       ...          ...   \n",
      "49995        i3  2014           Asia     Red    Hybrid       Manual   \n",
      "49996        i3  2023    Middle East  Silver  Electric       Manual   \n",
      "49997  5 Series  2010    Middle East     Red    Petrol    Automatic   \n",
      "49998        i3  2020           Asia   White  Electric    Automatic   \n",
      "49999        X1  2020  North America    Blue    Diesel       Manual   \n",
      "\n",
      "       Engine_Size_L  Mileage_KM  Price_USD  Sales_Volume Sales_Classification  \n",
      "0                3.5      151748      98740          8300                 High  \n",
      "1                1.6      121671      79219          3428                  Low  \n",
      "2                4.5       10991     113265          6994                  Low  \n",
      "3                1.7       27255      60971          4047                  Low  \n",
      "4                2.1      122131      49898          3080                  Low  \n",
      "...              ...         ...        ...           ...                  ...  \n",
      "49995            4.6      151030      42932          8182                 High  \n",
      "49996            4.2      147396      48714          9816                 High  \n",
      "49997            4.5      174939      46126          8280                 High  \n",
      "49998            3.8        3379      58566          9486                 High  \n",
      "49999            3.3      171003      77492          1764                  Low  \n",
      "\n",
      "[50000 rows x 11 columns]\n"
     ]
    }
   ],
   "source": [
    "a=df.replace({'price_usd':'price'})\n",
    "print(a)"
   ]
  },
  {
   "cell_type": "code",
   "execution_count": null,
   "id": "dceba4f1-3409-413f-a8d8-8250b6afb0fa",
   "metadata": {},
   "outputs": [
    {
     "name": "stdout",
     "output_type": "stream",
     "text": [
      "          Model  Year         Region   Color Fuel_Type Transmission  \\\n",
      "0      5 Series  2016           Asia     Red    Petrol       Manual   \n",
      "1            i8  2013  North America     Red    Hybrid    Automatic   \n",
      "2      5 Series  2022  North America    Blue    Petrol    Automatic   \n",
      "3            X3  2024    Middle East    Blue    Petrol    Automatic   \n",
      "4      7 Series  2020  South America   Black    Diesel       Manual   \n",
      "...         ...   ...            ...     ...       ...          ...   \n",
      "49995        i3  2014           Asia     Red    Hybrid       Manual   \n",
      "49996        i3  2023    Middle East  Silver  Electric       Manual   \n",
      "49997  5 Series  2010    Middle East     Red    Petrol    Automatic   \n",
      "49998        i3  2020           Asia   White  Electric    Automatic   \n",
      "49999        X1  2020  North America    Blue    Diesel       Manual   \n",
      "\n",
      "       Engine_Size_L  Mileage_KM  Price_USD  Sales_Volume Sales_Classification  \n",
      "0                3.5      151748      98740          8300                 High  \n",
      "1                1.6      121671      79219          3428                  Low  \n",
      "2                4.5       10991     113265          6994                  Low  \n",
      "3                1.7       27255      60971          4047                  Low  \n",
      "4                2.1      122131      49898          3080                  Low  \n",
      "...              ...         ...        ...           ...                  ...  \n",
      "49995            4.6      151030      42932          8182                 High  \n",
      "49996            4.2      147396      48714          9816                 High  \n",
      "49997            4.5      174939      46126          8280                 High  \n",
      "49998            3.8        3379      58566          9486                 High  \n",
      "49999            3.3      171003      77492          1764                  Low  \n",
      "\n",
      "[50000 rows x 11 columns]\n"
     ]
    }
   ],
   "source": [
    "a=df.fillna(0)\n",
    "print(a)"
   ]
  },
  {
   "cell_type": "code",
   "execution_count": null,
   "id": "71ec3b80-5e50-4b71-a71d-a8d17cea8ccd",
   "metadata": {},
   "outputs": [
    {
     "name": "stdout",
     "output_type": "stream",
     "text": [
      "          Model  Year         Region   Color Fuel_Type Transmission  \\\n",
      "0      5 Series  2016           Asia     Red    Petrol       Manual   \n",
      "1            i8  2013  North America     Red    Hybrid    Automatic   \n",
      "2      5 Series  2022  North America    Blue    Petrol    Automatic   \n",
      "3            X3  2024    Middle East    Blue    Petrol    Automatic   \n",
      "4      7 Series  2020  South America   Black    Diesel       Manual   \n",
      "...         ...   ...            ...     ...       ...          ...   \n",
      "49995        i3  2014           Asia     Red    Hybrid       Manual   \n",
      "49996        i3  2023    Middle East  Silver  Electric       Manual   \n",
      "49997  5 Series  2010    Middle East     Red    Petrol    Automatic   \n",
      "49998        i3  2020           Asia   White  Electric    Automatic   \n",
      "49999        X1  2020  North America    Blue    Diesel       Manual   \n",
      "\n",
      "       Engine_Size_L  Mileage_KM  Price_USD  Sales_Volume Sales_Classification  \n",
      "0                3.5      151748      98740          8300                 High  \n",
      "1                1.6      121671      79219          3428                  Low  \n",
      "2                4.5       10991     113265          6994                  Low  \n",
      "3                1.7       27255      60971          4047                  Low  \n",
      "4                2.1      122131      49898          3080                  Low  \n",
      "...              ...         ...        ...           ...                  ...  \n",
      "49995            4.6      151030      42932          8182                 High  \n",
      "49996            4.2      147396      48714          9816                 High  \n",
      "49997            4.5      174939      46126          8280                 High  \n",
      "49998            3.8        3379      58566          9486                 High  \n",
      "49999            3.3      171003      77492          1764                  Low  \n",
      "\n",
      "[50000 rows x 11 columns]\n"
     ]
    }
   ],
   "source": [
    "a=df.replace({'NaN':0})\n",
    "print(a)"
   ]
  },
  {
   "cell_type": "code",
   "execution_count": null,
   "id": "23b664fc-506f-4fb4-8971-3203558f10e4",
   "metadata": {},
   "outputs": [
    {
     "name": "stdout",
     "output_type": "stream",
     "text": [
      "          Model  Year         Region   Color Fuel_Type Transmission  \\\n",
      "0      5 Series  2016           Asia     Red    Petrol       Manual   \n",
      "1            i8  2013  North America     Red    Hybrid    Automatic   \n",
      "2      5 Series  2022  North America    Blue    Petrol    Automatic   \n",
      "3            X3  2024    Middle East    Blue    Petrol    Automatic   \n",
      "4      7 Series  2020  South America   Black    Diesel       Manual   \n",
      "...         ...   ...            ...     ...       ...          ...   \n",
      "49995        i3  2014           Asia     Red    Hybrid       Manual   \n",
      "49996        i3  2023    Middle East  Silver  Electric       Manual   \n",
      "49997  5 Series  2010    Middle East     Red    Petrol    Automatic   \n",
      "49998        i3  2020           Asia   White  Electric    Automatic   \n",
      "49999        X1  2020  North America    Blue    Diesel       Manual   \n",
      "\n",
      "       Engine_Size_L  Mileage_KM  Price_USD  Sales_Volume  \\\n",
      "0                3.5      151748      98740          8300   \n",
      "1                1.6      121671      79219          3428   \n",
      "2                4.5       10991     113265          6994   \n",
      "3                1.7       27255      60971          4047   \n",
      "4                2.1      122131      49898          3080   \n",
      "...              ...         ...        ...           ...   \n",
      "49995            4.6      151030      42932          8182   \n",
      "49996            4.2      147396      48714          9816   \n",
      "49997            4.5      174939      46126          8280   \n",
      "49998            3.8        3379      58566          9486   \n",
      "49999            3.3      171003      77492          1764   \n",
      "\n",
      "      Sales_Classification  conatains_a  \n",
      "0                     High        False  \n",
      "1                      Low        False  \n",
      "2                      Low        False  \n",
      "3                      Low        False  \n",
      "4                      Low         True  \n",
      "...                    ...          ...  \n",
      "49995                 High        False  \n",
      "49996                 High        False  \n",
      "49997                 High        False  \n",
      "49998                 High        False  \n",
      "49999                  Low        False  \n",
      "\n",
      "[50000 rows x 12 columns]\n"
     ]
    }
   ],
   "source": [
    "df['conatains_a']=df['Color'].str.contains('a')\n",
    "print(df)"
   ]
  },
  {
   "cell_type": "code",
   "execution_count": null,
   "id": "9ec8efb8-4912-43b7-a9c4-6811780ae6e5",
   "metadata": {},
   "outputs": [
    {
     "name": "stdout",
     "output_type": "stream",
     "text": [
      "0         4\n",
      "1        13\n",
      "2        13\n",
      "3        11\n",
      "4        13\n",
      "         ..\n",
      "49995     4\n",
      "49996    11\n",
      "49997    11\n",
      "49998     4\n",
      "49999    13\n",
      "Name: Region, Length: 50000, dtype: int64\n"
     ]
    }
   ],
   "source": [
    "print(df['Region'].str.len())"
   ]
  },
  {
   "cell_type": "code",
   "execution_count": null,
   "id": "de283941-0c0a-4db6-9472-798057657954",
   "metadata": {},
   "outputs": [
    {
     "name": "stdout",
     "output_type": "stream",
     "text": [
      "0           Red\n",
      "1           Red\n",
      "2          Blue\n",
      "3          Blue\n",
      "4         Black\n",
      "          ...  \n",
      "49995       Red\n",
      "49996    Silver\n",
      "49997       Red\n",
      "49998     White\n",
      "49999      Blue\n",
      "Name: Color, Length: 50000, dtype: object\n"
     ]
    }
   ],
   "source": [
    "df_strip=df['Color'].str.strip()\n",
    "print(df_strip)"
   ]
  },
  {
   "cell_type": "code",
   "execution_count": null,
   "id": "1f68c37d-32eb-4c58-91a5-060d1788b6d5",
   "metadata": {},
   "outputs": [
    {
     "name": "stdout",
     "output_type": "stream",
     "text": [
      "0          [Petrol]\n",
      "1          [Hybrid]\n",
      "2          [Petrol]\n",
      "3          [Petrol]\n",
      "4          [Diesel]\n",
      "            ...    \n",
      "49995      [Hybrid]\n",
      "49996    [Electric]\n",
      "49997      [Petrol]\n",
      "49998    [Electric]\n",
      "49999      [Diesel]\n",
      "Name: Fuel_Type, Length: 50000, dtype: object\n"
     ]
    }
   ],
   "source": [
    "df_split=df['Fuel_Type'].str.split(' ')\n",
    "print(df_split)\n",
    "\n"
   ]
  },
  {
   "cell_type": "code",
   "execution_count": null,
   "id": "a0630eb5-63a1-47c8-96ac-57f2a7b489c4",
   "metadata": {},
   "outputs": [
    {
     "name": "stdout",
     "output_type": "stream",
     "text": [
      "100307.20314\n"
     ]
    }
   ],
   "source": [
    "df_mean=df['Mileage_KM'].mean()\n",
    "print(df_mean)"
   ]
  },
  {
   "cell_type": "code",
   "execution_count": null,
   "id": "63beea84-d861-4de9-9548-e84c1002cdde",
   "metadata": {},
   "outputs": [
    {
     "name": "stdout",
     "output_type": "stream",
     "text": [
      "3\n"
     ]
    }
   ],
   "source": [
    "df_min=df['Mileage_KM'].min()\n",
    "print(df_min)"
   ]
  },
  {
   "cell_type": "code",
   "execution_count": null,
   "id": "7e6cffa6-6334-41b2-b0ae-c5868370cef6",
   "metadata": {},
   "outputs": [
    {
     "name": "stdout",
     "output_type": "stream",
     "text": [
      "199996\n"
     ]
    }
   ],
   "source": [
    "df_max=df['Mileage_KM'].max()\n",
    "print(df_max)"
   ]
  },
  {
   "cell_type": "code",
   "execution_count": null,
   "id": "b8dbddb7-c891-4730-b94a-efb2ea6d33ed",
   "metadata": {},
   "outputs": [
    {
     "name": "stdout",
     "output_type": "stream",
     "text": [
      "50000\n"
     ]
    }
   ],
   "source": [
    "df_count=df['Mileage_KM'].count()\n",
    "print(df_count)"
   ]
  },
  {
   "cell_type": "code",
   "execution_count": null,
   "id": "f6018a8b-d25f-4496-9a4b-8cf61d447531",
   "metadata": {},
   "outputs": [
    {
     "name": "stdout",
     "output_type": "stream",
     "text": [
      "Model\n",
      "3 Series    75566.233950\n",
      "5 Series    75287.844077\n",
      "7 Series    75570.196742\n",
      "M3          74841.588715\n",
      "M5          74474.930996\n",
      "X1          75262.219037\n",
      "X3          75016.616856\n",
      "X5          74708.116782\n",
      "X6          74434.600491\n",
      "i3          74800.268081\n",
      "i8          75366.270951\n",
      "Name: Price_USD, dtype: float64\n"
     ]
    }
   ],
   "source": [
    "df_agg=df.groupby('Model')['Price_USD'].mean()\n",
    "print(df_agg)"
   ]
  },
  {
   "cell_type": "code",
   "execution_count": 11,
   "id": "89706267",
   "metadata": {},
   "outputs": [
    {
     "name": "stdout",
     "output_type": "stream",
     "text": [
      "Defaulting to user installation because normal site-packages is not writeable\n",
      "Collecting matplotlib\n",
      "  Downloading matplotlib-3.10.7-cp313-cp313-win_amd64.whl.metadata (11 kB)\n",
      "Collecting contourpy>=1.0.1 (from matplotlib)\n",
      "  Downloading contourpy-1.3.3-cp313-cp313-win_amd64.whl.metadata (5.5 kB)\n",
      "Collecting cycler>=0.10 (from matplotlib)\n",
      "  Downloading cycler-0.12.1-py3-none-any.whl.metadata (3.8 kB)\n",
      "Collecting fonttools>=4.22.0 (from matplotlib)\n",
      "  Downloading fonttools-4.60.1-cp313-cp313-win_amd64.whl.metadata (114 kB)\n",
      "Collecting kiwisolver>=1.3.1 (from matplotlib)\n",
      "  Downloading kiwisolver-1.4.9-cp313-cp313-win_amd64.whl.metadata (6.4 kB)\n",
      "Collecting numpy>=1.23 (from matplotlib)\n",
      "  Downloading numpy-2.3.4-cp313-cp313-win_amd64.whl.metadata (60 kB)\n",
      "Requirement already satisfied: packaging>=20.0 in c:\\users\\user\\appdata\\local\\packages\\pythonsoftwarefoundation.python.3.13_qbz5n2kfra8p0\\localcache\\local-packages\\python313\\site-packages (from matplotlib) (25.0)\n",
      "Collecting pillow>=8 (from matplotlib)\n",
      "  Downloading pillow-12.0.0-cp313-cp313-win_amd64.whl.metadata (9.0 kB)\n",
      "Collecting pyparsing>=3 (from matplotlib)\n",
      "  Downloading pyparsing-3.2.5-py3-none-any.whl.metadata (5.0 kB)\n",
      "Requirement already satisfied: python-dateutil>=2.7 in c:\\users\\user\\appdata\\local\\packages\\pythonsoftwarefoundation.python.3.13_qbz5n2kfra8p0\\localcache\\local-packages\\python313\\site-packages (from matplotlib) (2.9.0.post0)\n",
      "Requirement already satisfied: six>=1.5 in c:\\users\\user\\appdata\\local\\packages\\pythonsoftwarefoundation.python.3.13_qbz5n2kfra8p0\\localcache\\local-packages\\python313\\site-packages (from python-dateutil>=2.7->matplotlib) (1.17.0)\n",
      "Downloading matplotlib-3.10.7-cp313-cp313-win_amd64.whl (8.1 MB)\n",
      "   ---------------------------------------- 0.0/8.1 MB ? eta -:--:--\n",
      "   ----- ---------------------------------- 1.0/8.1 MB 7.8 MB/s eta 0:00:01\n",
      "   ---------- ----------------------------- 2.1/8.1 MB 5.3 MB/s eta 0:00:02\n",
      "   ------------------ --------------------- 3.7/8.1 MB 6.1 MB/s eta 0:00:01\n",
      "   ------------------------- -------------- 5.2/8.1 MB 6.4 MB/s eta 0:00:01\n",
      "   --------------------------------- ------ 6.8/8.1 MB 6.8 MB/s eta 0:00:01\n",
      "   ---------------------------------------- 8.1/8.1 MB 6.6 MB/s  0:00:01\n",
      "Downloading contourpy-1.3.3-cp313-cp313-win_amd64.whl (226 kB)\n",
      "Downloading cycler-0.12.1-py3-none-any.whl (8.3 kB)\n",
      "Downloading fonttools-4.60.1-cp313-cp313-win_amd64.whl (2.3 MB)\n",
      "   ---------------------------------------- 0.0/2.3 MB ? eta -:--:--\n",
      "   ----------------------- ---------------- 1.3/2.3 MB 7.9 MB/s eta 0:00:01\n",
      "   ---------------------------------------- 2.3/2.3 MB 7.8 MB/s  0:00:00\n",
      "Downloading kiwisolver-1.4.9-cp313-cp313-win_amd64.whl (73 kB)\n",
      "Downloading numpy-2.3.4-cp313-cp313-win_amd64.whl (12.8 MB)\n",
      "   ---------------------------------------- 0.0/12.8 MB ? eta -:--:--\n",
      "   --- ------------------------------------ 1.0/12.8 MB 8.4 MB/s eta 0:00:02\n",
      "   ------- -------------------------------- 2.4/12.8 MB 7.6 MB/s eta 0:00:02\n",
      "   ------------ --------------------------- 3.9/12.8 MB 6.7 MB/s eta 0:00:02\n",
      "   ----------------- ---------------------- 5.5/12.8 MB 7.1 MB/s eta 0:00:02\n",
      "   --------------------- ------------------ 6.8/12.8 MB 6.7 MB/s eta 0:00:01\n",
      "   ------------------------- -------------- 8.1/12.8 MB 6.8 MB/s eta 0:00:01\n",
      "   ---------------------------- ----------- 9.2/12.8 MB 6.6 MB/s eta 0:00:01\n",
      "   ------------------------------- -------- 10.2/12.8 MB 6.2 MB/s eta 0:00:01\n",
      "   ---------------------------------- ----- 11.0/12.8 MB 6.0 MB/s eta 0:00:01\n",
      "   ------------------------------------ --- 11.8/12.8 MB 5.8 MB/s eta 0:00:01\n",
      "   ------------------------------------- -- 12.1/12.8 MB 5.6 MB/s eta 0:00:01\n",
      "   -------------------------------------- - 12.3/12.8 MB 5.2 MB/s eta 0:00:01\n",
      "   ---------------------------------------  12.6/12.8 MB 4.8 MB/s eta 0:00:01\n",
      "   ---------------------------------------- 12.8/12.8 MB 4.7 MB/s  0:00:02\n",
      "Downloading pillow-12.0.0-cp313-cp313-win_amd64.whl (7.0 MB)\n",
      "   ---------------------------------------- 0.0/7.0 MB ? eta -:--:--\n",
      "   ---- ----------------------------------- 0.8/7.0 MB 7.6 MB/s eta 0:00:01\n",
      "   ---------- ----------------------------- 1.8/7.0 MB 6.3 MB/s eta 0:00:01\n",
      "   ----------------- ---------------------- 3.1/7.0 MB 6.0 MB/s eta 0:00:01\n",
      "   ---------------------- ----------------- 3.9/7.0 MB 5.3 MB/s eta 0:00:01\n",
      "   ----------------------- ---------------- 4.2/7.0 MB 4.7 MB/s eta 0:00:01\n",
      "   -------------------------- ------------- 4.7/7.0 MB 4.2 MB/s eta 0:00:01\n",
      "   -------------------------- ------------- 4.7/7.0 MB 4.2 MB/s eta 0:00:01\n",
      "   ------------------------------- -------- 5.5/7.0 MB 3.4 MB/s eta 0:00:01\n",
      "   ------------------------------------- -- 6.6/7.0 MB 3.6 MB/s eta 0:00:01\n",
      "   ---------------------------------------- 7.0/7.0 MB 3.6 MB/s  0:00:01\n",
      "Downloading pyparsing-3.2.5-py3-none-any.whl (113 kB)\n",
      "Installing collected packages: pyparsing, pillow, numpy, kiwisolver, fonttools, cycler, contourpy, matplotlib\n",
      "\n",
      "   ---------------------------------------- 0/8 [pyparsing]\n",
      "   ---------------------------------------- 0/8 [pyparsing]\n",
      "   ----- ---------------------------------- 1/8 [pillow]\n",
      "   ----- ---------------------------------- 1/8 [pillow]\n",
      "   ----- ---------------------------------- 1/8 [pillow]\n",
      "   ----- ---------------------------------- 1/8 [pillow]\n",
      "   ----- ---------------------------------- 1/8 [pillow]\n",
      "   ----- ---------------------------------- 1/8 [pillow]\n",
      "   ----- ---------------------------------- 1/8 [pillow]\n",
      "   ----- ---------------------------------- 1/8 [pillow]\n",
      "   ----- ---------------------------------- 1/8 [pillow]\n",
      "   ----- ---------------------------------- 1/8 [pillow]\n",
      "   ----- ---------------------------------- 1/8 [pillow]\n",
      "   ----- ---------------------------------- 1/8 [pillow]\n",
      "   ----- ---------------------------------- 1/8 [pillow]\n",
      "   ----- ---------------------------------- 1/8 [pillow]\n",
      "   ----- ---------------------------------- 1/8 [pillow]\n",
      "   ---------- ----------------------------- 2/8 [numpy]\n",
      "   ---------- ----------------------------- 2/8 [numpy]\n",
      "   ---------- ----------------------------- 2/8 [numpy]\n",
      "   ---------- ----------------------------- 2/8 [numpy]\n",
      "   ---------- ----------------------------- 2/8 [numpy]\n",
      "   ---------- ----------------------------- 2/8 [numpy]\n",
      "   ---------- ----------------------------- 2/8 [numpy]\n",
      "   ---------- ----------------------------- 2/8 [numpy]\n",
      "   ---------- ----------------------------- 2/8 [numpy]\n",
      "   ---------- ----------------------------- 2/8 [numpy]\n",
      "   ---------- ----------------------------- 2/8 [numpy]\n",
      "   ---------- ----------------------------- 2/8 [numpy]\n",
      "   ---------- ----------------------------- 2/8 [numpy]\n",
      "   ---------- ----------------------------- 2/8 [numpy]\n",
      "   ---------- ----------------------------- 2/8 [numpy]\n",
      "   ---------- ----------------------------- 2/8 [numpy]\n",
      "   ---------- ----------------------------- 2/8 [numpy]\n",
      "   ---------- ----------------------------- 2/8 [numpy]\n",
      "   ---------- ----------------------------- 2/8 [numpy]\n",
      "   ---------- ----------------------------- 2/8 [numpy]\n",
      "   ---------- ----------------------------- 2/8 [numpy]\n",
      "   ---------- ----------------------------- 2/8 [numpy]\n",
      "   ---------- ----------------------------- 2/8 [numpy]\n",
      "   ---------- ----------------------------- 2/8 [numpy]\n",
      "   ---------- ----------------------------- 2/8 [numpy]\n",
      "   ---------- ----------------------------- 2/8 [numpy]\n",
      "   ---------- ----------------------------- 2/8 [numpy]\n",
      "   ---------- ----------------------------- 2/8 [numpy]\n",
      "   ---------- ----------------------------- 2/8 [numpy]\n",
      "   ---------- ----------------------------- 2/8 [numpy]\n",
      "   ---------- ----------------------------- 2/8 [numpy]\n",
      "   ---------- ----------------------------- 2/8 [numpy]\n",
      "   ---------- ----------------------------- 2/8 [numpy]\n",
      "   ---------- ----------------------------- 2/8 [numpy]\n",
      "   ---------- ----------------------------- 2/8 [numpy]\n",
      "   ---------- ----------------------------- 2/8 [numpy]\n",
      "   ---------- ----------------------------- 2/8 [numpy]\n",
      "   ---------- ----------------------------- 2/8 [numpy]\n",
      "   ---------- ----------------------------- 2/8 [numpy]\n",
      "   ---------- ----------------------------- 2/8 [numpy]\n",
      "   ---------- ----------------------------- 2/8 [numpy]\n",
      "   ---------- ----------------------------- 2/8 [numpy]\n",
      "   ---------- ----------------------------- 2/8 [numpy]\n",
      "   ---------- ----------------------------- 2/8 [numpy]\n",
      "   ---------- ----------------------------- 2/8 [numpy]\n",
      "   ---------- ----------------------------- 2/8 [numpy]\n",
      "   ---------- ----------------------------- 2/8 [numpy]\n",
      "   ---------- ----------------------------- 2/8 [numpy]\n",
      "   ---------- ----------------------------- 2/8 [numpy]\n",
      "   ---------- ----------------------------- 2/8 [numpy]\n",
      "   ---------- ----------------------------- 2/8 [numpy]\n",
      "   ---------- ----------------------------- 2/8 [numpy]\n",
      "   ---------- ----------------------------- 2/8 [numpy]\n",
      "   ---------- ----------------------------- 2/8 [numpy]\n",
      "   ---------- ----------------------------- 2/8 [numpy]\n",
      "   ---------- ----------------------------- 2/8 [numpy]\n",
      "   ---------- ----------------------------- 2/8 [numpy]\n",
      "   ---------- ----------------------------- 2/8 [numpy]\n",
      "   ---------- ----------------------------- 2/8 [numpy]\n",
      "   ---------- ----------------------------- 2/8 [numpy]\n",
      "   ---------- ----------------------------- 2/8 [numpy]\n",
      "   ---------- ----------------------------- 2/8 [numpy]\n",
      "   ---------- ----------------------------- 2/8 [numpy]\n",
      "   ---------- ----------------------------- 2/8 [numpy]\n",
      "   ---------- ----------------------------- 2/8 [numpy]\n",
      "   ---------- ----------------------------- 2/8 [numpy]\n",
      "   ---------- ----------------------------- 2/8 [numpy]\n",
      "   --------------- ------------------------ 3/8 [kiwisolver]\n",
      "   -------------------- ------------------- 4/8 [fonttools]\n",
      "   -------------------- ------------------- 4/8 [fonttools]\n",
      "   -------------------- ------------------- 4/8 [fonttools]\n",
      "   -------------------- ------------------- 4/8 [fonttools]\n",
      "   -------------------- ------------------- 4/8 [fonttools]\n",
      "   -------------------- ------------------- 4/8 [fonttools]\n",
      "   -------------------- ------------------- 4/8 [fonttools]\n",
      "   -------------------- ------------------- 4/8 [fonttools]\n",
      "   -------------------- ------------------- 4/8 [fonttools]\n",
      "   -------------------- ------------------- 4/8 [fonttools]\n",
      "   -------------------- ------------------- 4/8 [fonttools]\n",
      "   -------------------- ------------------- 4/8 [fonttools]\n",
      "   -------------------- ------------------- 4/8 [fonttools]\n",
      "   -------------------- ------------------- 4/8 [fonttools]\n",
      "   -------------------- ------------------- 4/8 [fonttools]\n",
      "   -------------------- ------------------- 4/8 [fonttools]\n",
      "   -------------------- ------------------- 4/8 [fonttools]\n",
      "   -------------------- ------------------- 4/8 [fonttools]\n",
      "   -------------------- ------------------- 4/8 [fonttools]\n",
      "   -------------------- ------------------- 4/8 [fonttools]\n",
      "   -------------------- ------------------- 4/8 [fonttools]\n",
      "   -------------------- ------------------- 4/8 [fonttools]\n",
      "   -------------------- ------------------- 4/8 [fonttools]\n",
      "   -------------------- ------------------- 4/8 [fonttools]\n",
      "   -------------------- ------------------- 4/8 [fonttools]\n",
      "   -------------------- ------------------- 4/8 [fonttools]\n",
      "   -------------------- ------------------- 4/8 [fonttools]\n",
      "   -------------------- ------------------- 4/8 [fonttools]\n",
      "   -------------------- ------------------- 4/8 [fonttools]\n",
      "   -------------------- ------------------- 4/8 [fonttools]\n",
      "   -------------------- ------------------- 4/8 [fonttools]\n",
      "   -------------------- ------------------- 4/8 [fonttools]\n",
      "   -------------------- ------------------- 4/8 [fonttools]\n",
      "   -------------------- ------------------- 4/8 [fonttools]\n",
      "   -------------------- ------------------- 4/8 [fonttools]\n",
      "   -------------------- ------------------- 4/8 [fonttools]\n",
      "   -------------------- ------------------- 4/8 [fonttools]\n",
      "   -------------------- ------------------- 4/8 [fonttools]\n",
      "   -------------------- ------------------- 4/8 [fonttools]\n",
      "   -------------------- ------------------- 4/8 [fonttools]\n",
      "   -------------------- ------------------- 4/8 [fonttools]\n",
      "   -------------------- ------------------- 4/8 [fonttools]\n",
      "   -------------------- ------------------- 4/8 [fonttools]\n",
      "   -------------------- ------------------- 4/8 [fonttools]\n",
      "   -------------------- ------------------- 4/8 [fonttools]\n",
      "   -------------------- ------------------- 4/8 [fonttools]\n",
      "   -------------------- ------------------- 4/8 [fonttools]\n",
      "   -------------------- ------------------- 4/8 [fonttools]\n",
      "   -------------------- ------------------- 4/8 [fonttools]\n",
      "   -------------------- ------------------- 4/8 [fonttools]\n",
      "   -------------------- ------------------- 4/8 [fonttools]\n",
      "   -------------------- ------------------- 4/8 [fonttools]\n",
      "   -------------------- ------------------- 4/8 [fonttools]\n",
      "   -------------------- ------------------- 4/8 [fonttools]\n",
      "   -------------------- ------------------- 4/8 [fonttools]\n",
      "   ------------------------------ --------- 6/8 [contourpy]\n",
      "   ------------------------------ --------- 6/8 [contourpy]\n",
      "   ----------------------------------- ---- 7/8 [matplotlib]\n",
      "   ----------------------------------- ---- 7/8 [matplotlib]\n",
      "   ----------------------------------- ---- 7/8 [matplotlib]\n",
      "   ----------------------------------- ---- 7/8 [matplotlib]\n",
      "   ----------------------------------- ---- 7/8 [matplotlib]\n",
      "   ----------------------------------- ---- 7/8 [matplotlib]\n",
      "   ----------------------------------- ---- 7/8 [matplotlib]\n",
      "   ----------------------------------- ---- 7/8 [matplotlib]\n",
      "   ----------------------------------- ---- 7/8 [matplotlib]\n",
      "   ----------------------------------- ---- 7/8 [matplotlib]\n",
      "   ----------------------------------- ---- 7/8 [matplotlib]\n",
      "   ----------------------------------- ---- 7/8 [matplotlib]\n",
      "   ----------------------------------- ---- 7/8 [matplotlib]\n",
      "   ----------------------------------- ---- 7/8 [matplotlib]\n",
      "   ----------------------------------- ---- 7/8 [matplotlib]\n",
      "   ----------------------------------- ---- 7/8 [matplotlib]\n",
      "   ----------------------------------- ---- 7/8 [matplotlib]\n",
      "   ----------------------------------- ---- 7/8 [matplotlib]\n",
      "   ----------------------------------- ---- 7/8 [matplotlib]\n",
      "   ----------------------------------- ---- 7/8 [matplotlib]\n",
      "   ----------------------------------- ---- 7/8 [matplotlib]\n",
      "   ----------------------------------- ---- 7/8 [matplotlib]\n",
      "   ----------------------------------- ---- 7/8 [matplotlib]\n",
      "   ----------------------------------- ---- 7/8 [matplotlib]\n",
      "   ----------------------------------- ---- 7/8 [matplotlib]\n",
      "   ----------------------------------- ---- 7/8 [matplotlib]\n",
      "   ----------------------------------- ---- 7/8 [matplotlib]\n",
      "   ----------------------------------- ---- 7/8 [matplotlib]\n",
      "   ----------------------------------- ---- 7/8 [matplotlib]\n",
      "   ----------------------------------- ---- 7/8 [matplotlib]\n",
      "   ----------------------------------- ---- 7/8 [matplotlib]\n",
      "   ----------------------------------- ---- 7/8 [matplotlib]\n",
      "   ----------------------------------- ---- 7/8 [matplotlib]\n",
      "   ----------------------------------- ---- 7/8 [matplotlib]\n",
      "   ----------------------------------- ---- 7/8 [matplotlib]\n",
      "   ----------------------------------- ---- 7/8 [matplotlib]\n",
      "   ----------------------------------- ---- 7/8 [matplotlib]\n",
      "   ----------------------------------- ---- 7/8 [matplotlib]\n",
      "   ----------------------------------- ---- 7/8 [matplotlib]\n",
      "   ----------------------------------- ---- 7/8 [matplotlib]\n",
      "   ----------------------------------- ---- 7/8 [matplotlib]\n",
      "   ----------------------------------- ---- 7/8 [matplotlib]\n",
      "   ----------------------------------- ---- 7/8 [matplotlib]\n",
      "   ----------------------------------- ---- 7/8 [matplotlib]\n",
      "   ----------------------------------- ---- 7/8 [matplotlib]\n",
      "   ----------------------------------- ---- 7/8 [matplotlib]\n",
      "   ----------------------------------- ---- 7/8 [matplotlib]\n",
      "   ----------------------------------- ---- 7/8 [matplotlib]\n",
      "   ----------------------------------- ---- 7/8 [matplotlib]\n",
      "   ----------------------------------- ---- 7/8 [matplotlib]\n",
      "   ----------------------------------- ---- 7/8 [matplotlib]\n",
      "   ---------------------------------------- 8/8 [matplotlib]\n",
      "\n",
      "Successfully installed contourpy-1.3.3 cycler-0.12.1 fonttools-4.60.1 kiwisolver-1.4.9 matplotlib-3.10.7 numpy-2.3.4 pillow-12.0.0 pyparsing-3.2.5\n",
      "Note: you may need to restart the kernel to use updated packages.\n"
     ]
    },
    {
     "name": "stderr",
     "output_type": "stream",
     "text": [
      "\n",
      "[notice] A new release of pip is available: 25.2 -> 25.3\n",
      "[notice] To update, run: C:\\Users\\user\\AppData\\Local\\Microsoft\\WindowsApps\\PythonSoftwareFoundation.Python.3.13_qbz5n2kfra8p0\\python.exe -m pip install --upgrade pip\n"
     ]
    }
   ],
   "source": [
    "pip install matplotlib"
   ]
  },
  {
   "cell_type": "code",
   "execution_count": 12,
   "id": "993bda83",
   "metadata": {},
   "outputs": [
    {
     "name": "stdout",
     "output_type": "stream",
     "text": [
      "Defaulting to user installation because normal site-packages is not writeable\n",
      "Requirement already satisfied: matplotlib in c:\\users\\user\\appdata\\local\\packages\\pythonsoftwarefoundation.python.3.13_qbz5n2kfra8p0\\localcache\\local-packages\\python313\\site-packages (3.10.7)\n",
      "Requirement already satisfied: contourpy>=1.0.1 in c:\\users\\user\\appdata\\local\\packages\\pythonsoftwarefoundation.python.3.13_qbz5n2kfra8p0\\localcache\\local-packages\\python313\\site-packages (from matplotlib) (1.3.3)\n",
      "Requirement already satisfied: cycler>=0.10 in c:\\users\\user\\appdata\\local\\packages\\pythonsoftwarefoundation.python.3.13_qbz5n2kfra8p0\\localcache\\local-packages\\python313\\site-packages (from matplotlib) (0.12.1)\n",
      "Requirement already satisfied: fonttools>=4.22.0 in c:\\users\\user\\appdata\\local\\packages\\pythonsoftwarefoundation.python.3.13_qbz5n2kfra8p0\\localcache\\local-packages\\python313\\site-packages (from matplotlib) (4.60.1)\n",
      "Requirement already satisfied: kiwisolver>=1.3.1 in c:\\users\\user\\appdata\\local\\packages\\pythonsoftwarefoundation.python.3.13_qbz5n2kfra8p0\\localcache\\local-packages\\python313\\site-packages (from matplotlib) (1.4.9)\n",
      "Requirement already satisfied: numpy>=1.23 in c:\\users\\user\\appdata\\local\\packages\\pythonsoftwarefoundation.python.3.13_qbz5n2kfra8p0\\localcache\\local-packages\\python313\\site-packages (from matplotlib) (2.3.4)\n",
      "Requirement already satisfied: packaging>=20.0 in c:\\users\\user\\appdata\\local\\packages\\pythonsoftwarefoundation.python.3.13_qbz5n2kfra8p0\\localcache\\local-packages\\python313\\site-packages (from matplotlib) (25.0)\n",
      "Requirement already satisfied: pillow>=8 in c:\\users\\user\\appdata\\local\\packages\\pythonsoftwarefoundation.python.3.13_qbz5n2kfra8p0\\localcache\\local-packages\\python313\\site-packages (from matplotlib) (12.0.0)\n",
      "Requirement already satisfied: pyparsing>=3 in c:\\users\\user\\appdata\\local\\packages\\pythonsoftwarefoundation.python.3.13_qbz5n2kfra8p0\\localcache\\local-packages\\python313\\site-packages (from matplotlib) (3.2.5)\n",
      "Requirement already satisfied: python-dateutil>=2.7 in c:\\users\\user\\appdata\\local\\packages\\pythonsoftwarefoundation.python.3.13_qbz5n2kfra8p0\\localcache\\local-packages\\python313\\site-packages (from matplotlib) (2.9.0.post0)\n",
      "Requirement already satisfied: six>=1.5 in c:\\users\\user\\appdata\\local\\packages\\pythonsoftwarefoundation.python.3.13_qbz5n2kfra8p0\\localcache\\local-packages\\python313\\site-packages (from python-dateutil>=2.7->matplotlib) (1.17.0)\n",
      "Note: you may need to restart the kernel to use updated packages.\n"
     ]
    },
    {
     "name": "stderr",
     "output_type": "stream",
     "text": [
      "\n",
      "[notice] A new release of pip is available: 25.2 -> 25.3\n",
      "[notice] To update, run: C:\\Users\\user\\AppData\\Local\\Microsoft\\WindowsApps\\PythonSoftwareFoundation.Python.3.13_qbz5n2kfra8p0\\python.exe -m pip install --upgrade pip\n"
     ]
    }
   ],
   "source": [
    "pip install --upgrade matplotlib"
   ]
  },
  {
   "cell_type": "code",
   "execution_count": 14,
   "id": "a15b2697",
   "metadata": {},
   "outputs": [],
   "source": [
    "import matplotlib.pyplot as plt\n",
    "import numpy as np"
   ]
  },
  {
   "cell_type": "code",
   "execution_count": 15,
   "id": "4661b2c1",
   "metadata": {},
   "outputs": [
    {
     "name": "stdout",
     "output_type": "stream",
     "text": [
      "Defaulting to user installation because normal site-packages is not writeable\n",
      "Collecting pandas\n",
      "  Downloading pandas-2.3.3-cp313-cp313-win_amd64.whl.metadata (19 kB)\n",
      "Requirement already satisfied: numpy>=1.26.0 in c:\\users\\user\\appdata\\local\\packages\\pythonsoftwarefoundation.python.3.13_qbz5n2kfra8p0\\localcache\\local-packages\\python313\\site-packages (from pandas) (2.3.4)\n",
      "Requirement already satisfied: python-dateutil>=2.8.2 in c:\\users\\user\\appdata\\local\\packages\\pythonsoftwarefoundation.python.3.13_qbz5n2kfra8p0\\localcache\\local-packages\\python313\\site-packages (from pandas) (2.9.0.post0)\n",
      "Collecting pytz>=2020.1 (from pandas)\n",
      "  Using cached pytz-2025.2-py2.py3-none-any.whl.metadata (22 kB)\n",
      "Collecting tzdata>=2022.7 (from pandas)\n",
      "  Using cached tzdata-2025.2-py2.py3-none-any.whl.metadata (1.4 kB)\n",
      "Requirement already satisfied: six>=1.5 in c:\\users\\user\\appdata\\local\\packages\\pythonsoftwarefoundation.python.3.13_qbz5n2kfra8p0\\localcache\\local-packages\\python313\\site-packages (from python-dateutil>=2.8.2->pandas) (1.17.0)\n",
      "Downloading pandas-2.3.3-cp313-cp313-win_amd64.whl (11.0 MB)\n",
      "   ---------------------------------------- 0.0/11.0 MB ? eta -:--:--\n",
      "   --------- ------------------------------ 2.6/11.0 MB 16.3 MB/s eta 0:00:01\n",
      "   ---------------------------- ----------- 7.9/11.0 MB 21.8 MB/s eta 0:00:01\n",
      "   ---------------------------------------- 11.0/11.0 MB 21.3 MB/s  0:00:00\n",
      "Using cached pytz-2025.2-py2.py3-none-any.whl (509 kB)\n",
      "Using cached tzdata-2025.2-py2.py3-none-any.whl (347 kB)\n",
      "Installing collected packages: pytz, tzdata, pandas\n",
      "\n",
      "   ---------------------------------------- 0/3 [pytz]\n",
      "   ---------------------------------------- 0/3 [pytz]\n",
      "   ------------- -------------------------- 1/3 [tzdata]\n",
      "   ------------- -------------------------- 1/3 [tzdata]\n",
      "   ------------- -------------------------- 1/3 [tzdata]\n",
      "   -------------------------- ------------- 2/3 [pandas]\n",
      "   -------------------------- ------------- 2/3 [pandas]\n",
      "   -------------------------- ------------- 2/3 [pandas]\n",
      "   -------------------------- ------------- 2/3 [pandas]\n",
      "   -------------------------- ------------- 2/3 [pandas]\n",
      "   -------------------------- ------------- 2/3 [pandas]\n",
      "   -------------------------- ------------- 2/3 [pandas]\n",
      "   -------------------------- ------------- 2/3 [pandas]\n",
      "   -------------------------- ------------- 2/3 [pandas]\n",
      "   -------------------------- ------------- 2/3 [pandas]\n",
      "   -------------------------- ------------- 2/3 [pandas]\n",
      "   -------------------------- ------------- 2/3 [pandas]\n",
      "   -------------------------- ------------- 2/3 [pandas]\n",
      "   -------------------------- ------------- 2/3 [pandas]\n",
      "   -------------------------- ------------- 2/3 [pandas]\n",
      "   -------------------------- ------------- 2/3 [pandas]\n",
      "   -------------------------- ------------- 2/3 [pandas]\n",
      "   -------------------------- ------------- 2/3 [pandas]\n",
      "   -------------------------- ------------- 2/3 [pandas]\n",
      "   -------------------------- ------------- 2/3 [pandas]\n",
      "   -------------------------- ------------- 2/3 [pandas]\n",
      "   -------------------------- ------------- 2/3 [pandas]\n",
      "   -------------------------- ------------- 2/3 [pandas]\n",
      "   -------------------------- ------------- 2/3 [pandas]\n",
      "   -------------------------- ------------- 2/3 [pandas]\n",
      "   -------------------------- ------------- 2/3 [pandas]\n",
      "   -------------------------- ------------- 2/3 [pandas]\n",
      "   -------------------------- ------------- 2/3 [pandas]\n",
      "   -------------------------- ------------- 2/3 [pandas]\n",
      "   -------------------------- ------------- 2/3 [pandas]\n",
      "   -------------------------- ------------- 2/3 [pandas]\n",
      "   -------------------------- ------------- 2/3 [pandas]\n",
      "   -------------------------- ------------- 2/3 [pandas]\n",
      "   -------------------------- ------------- 2/3 [pandas]\n",
      "   -------------------------- ------------- 2/3 [pandas]\n",
      "   -------------------------- ------------- 2/3 [pandas]\n",
      "   -------------------------- ------------- 2/3 [pandas]\n",
      "   -------------------------- ------------- 2/3 [pandas]\n",
      "   -------------------------- ------------- 2/3 [pandas]\n",
      "   -------------------------- ------------- 2/3 [pandas]\n",
      "   -------------------------- ------------- 2/3 [pandas]\n",
      "   -------------------------- ------------- 2/3 [pandas]\n",
      "   -------------------------- ------------- 2/3 [pandas]\n",
      "   -------------------------- ------------- 2/3 [pandas]\n",
      "   -------------------------- ------------- 2/3 [pandas]\n",
      "   -------------------------- ------------- 2/3 [pandas]\n",
      "   -------------------------- ------------- 2/3 [pandas]\n",
      "   -------------------------- ------------- 2/3 [pandas]\n",
      "   -------------------------- ------------- 2/3 [pandas]\n",
      "   -------------------------- ------------- 2/3 [pandas]\n",
      "   -------------------------- ------------- 2/3 [pandas]\n",
      "   -------------------------- ------------- 2/3 [pandas]\n",
      "   -------------------------- ------------- 2/3 [pandas]\n",
      "   -------------------------- ------------- 2/3 [pandas]\n",
      "   -------------------------- ------------- 2/3 [pandas]\n",
      "   -------------------------- ------------- 2/3 [pandas]\n",
      "   -------------------------- ------------- 2/3 [pandas]\n",
      "   -------------------------- ------------- 2/3 [pandas]\n",
      "   -------------------------- ------------- 2/3 [pandas]\n",
      "   -------------------------- ------------- 2/3 [pandas]\n",
      "   -------------------------- ------------- 2/3 [pandas]\n",
      "   -------------------------- ------------- 2/3 [pandas]\n",
      "   -------------------------- ------------- 2/3 [pandas]\n",
      "   -------------------------- ------------- 2/3 [pandas]\n",
      "   -------------------------- ------------- 2/3 [pandas]\n",
      "   -------------------------- ------------- 2/3 [pandas]\n",
      "   -------------------------- ------------- 2/3 [pandas]\n",
      "   -------------------------- ------------- 2/3 [pandas]\n",
      "   -------------------------- ------------- 2/3 [pandas]\n",
      "   -------------------------- ------------- 2/3 [pandas]\n",
      "   -------------------------- ------------- 2/3 [pandas]\n",
      "   -------------------------- ------------- 2/3 [pandas]\n",
      "   -------------------------- ------------- 2/3 [pandas]\n",
      "   -------------------------- ------------- 2/3 [pandas]\n",
      "   -------------------------- ------------- 2/3 [pandas]\n",
      "   -------------------------- ------------- 2/3 [pandas]\n",
      "   -------------------------- ------------- 2/3 [pandas]\n",
      "   -------------------------- ------------- 2/3 [pandas]\n",
      "   -------------------------- ------------- 2/3 [pandas]\n",
      "   -------------------------- ------------- 2/3 [pandas]\n",
      "   -------------------------- ------------- 2/3 [pandas]\n",
      "   -------------------------- ------------- 2/3 [pandas]\n",
      "   -------------------------- ------------- 2/3 [pandas]\n",
      "   -------------------------- ------------- 2/3 [pandas]\n",
      "   -------------------------- ------------- 2/3 [pandas]\n",
      "   -------------------------- ------------- 2/3 [pandas]\n",
      "   -------------------------- ------------- 2/3 [pandas]\n",
      "   -------------------------- ------------- 2/3 [pandas]\n",
      "   -------------------------- ------------- 2/3 [pandas]\n",
      "   -------------------------- ------------- 2/3 [pandas]\n",
      "   -------------------------- ------------- 2/3 [pandas]\n",
      "   -------------------------- ------------- 2/3 [pandas]\n",
      "   -------------------------- ------------- 2/3 [pandas]\n",
      "   -------------------------- ------------- 2/3 [pandas]\n",
      "   -------------------------- ------------- 2/3 [pandas]\n",
      "   -------------------------- ------------- 2/3 [pandas]\n",
      "   -------------------------- ------------- 2/3 [pandas]\n",
      "   -------------------------- ------------- 2/3 [pandas]\n",
      "   -------------------------- ------------- 2/3 [pandas]\n",
      "   -------------------------- ------------- 2/3 [pandas]\n",
      "   -------------------------- ------------- 2/3 [pandas]\n",
      "   -------------------------- ------------- 2/3 [pandas]\n",
      "   -------------------------- ------------- 2/3 [pandas]\n",
      "   -------------------------- ------------- 2/3 [pandas]\n",
      "   -------------------------- ------------- 2/3 [pandas]\n",
      "   -------------------------- ------------- 2/3 [pandas]\n",
      "   -------------------------- ------------- 2/3 [pandas]\n",
      "   -------------------------- ------------- 2/3 [pandas]\n",
      "   -------------------------- ------------- 2/3 [pandas]\n",
      "   -------------------------- ------------- 2/3 [pandas]\n",
      "   -------------------------- ------------- 2/3 [pandas]\n",
      "   -------------------------- ------------- 2/3 [pandas]\n",
      "   -------------------------- ------------- 2/3 [pandas]\n",
      "   -------------------------- ------------- 2/3 [pandas]\n",
      "   -------------------------- ------------- 2/3 [pandas]\n",
      "   -------------------------- ------------- 2/3 [pandas]\n",
      "   -------------------------- ------------- 2/3 [pandas]\n",
      "   -------------------------- ------------- 2/3 [pandas]\n",
      "   -------------------------- ------------- 2/3 [pandas]\n",
      "   -------------------------- ------------- 2/3 [pandas]\n",
      "   -------------------------- ------------- 2/3 [pandas]\n",
      "   -------------------------- ------------- 2/3 [pandas]\n",
      "   -------------------------- ------------- 2/3 [pandas]\n",
      "   -------------------------- ------------- 2/3 [pandas]\n",
      "   -------------------------- ------------- 2/3 [pandas]\n",
      "   -------------------------- ------------- 2/3 [pandas]\n",
      "   -------------------------- ------------- 2/3 [pandas]\n",
      "   -------------------------- ------------- 2/3 [pandas]\n",
      "   -------------------------- ------------- 2/3 [pandas]\n",
      "   -------------------------- ------------- 2/3 [pandas]\n",
      "   -------------------------- ------------- 2/3 [pandas]\n",
      "   -------------------------- ------------- 2/3 [pandas]\n",
      "   -------------------------- ------------- 2/3 [pandas]\n",
      "   -------------------------- ------------- 2/3 [pandas]\n",
      "   -------------------------- ------------- 2/3 [pandas]\n",
      "   -------------------------- ------------- 2/3 [pandas]\n",
      "   -------------------------- ------------- 2/3 [pandas]\n",
      "   -------------------------- ------------- 2/3 [pandas]\n",
      "   -------------------------- ------------- 2/3 [pandas]\n",
      "   -------------------------- ------------- 2/3 [pandas]\n",
      "   -------------------------- ------------- 2/3 [pandas]\n",
      "   -------------------------- ------------- 2/3 [pandas]\n",
      "   -------------------------- ------------- 2/3 [pandas]\n",
      "   -------------------------- ------------- 2/3 [pandas]\n",
      "   -------------------------- ------------- 2/3 [pandas]\n",
      "   -------------------------- ------------- 2/3 [pandas]\n",
      "   -------------------------- ------------- 2/3 [pandas]\n",
      "   -------------------------- ------------- 2/3 [pandas]\n",
      "   -------------------------- ------------- 2/3 [pandas]\n",
      "   -------------------------- ------------- 2/3 [pandas]\n",
      "   -------------------------- ------------- 2/3 [pandas]\n",
      "   -------------------------- ------------- 2/3 [pandas]\n",
      "   -------------------------- ------------- 2/3 [pandas]\n",
      "   -------------------------- ------------- 2/3 [pandas]\n",
      "   -------------------------- ------------- 2/3 [pandas]\n",
      "   -------------------------- ------------- 2/3 [pandas]\n",
      "   -------------------------- ------------- 2/3 [pandas]\n",
      "   -------------------------- ------------- 2/3 [pandas]\n",
      "   -------------------------- ------------- 2/3 [pandas]\n",
      "   -------------------------- ------------- 2/3 [pandas]\n",
      "   -------------------------- ------------- 2/3 [pandas]\n",
      "   -------------------------- ------------- 2/3 [pandas]\n",
      "   -------------------------- ------------- 2/3 [pandas]\n",
      "   -------------------------- ------------- 2/3 [pandas]\n",
      "   -------------------------- ------------- 2/3 [pandas]\n",
      "   -------------------------- ------------- 2/3 [pandas]\n",
      "   -------------------------- ------------- 2/3 [pandas]\n",
      "   -------------------------- ------------- 2/3 [pandas]\n",
      "   -------------------------- ------------- 2/3 [pandas]\n",
      "   -------------------------- ------------- 2/3 [pandas]\n",
      "   -------------------------- ------------- 2/3 [pandas]\n",
      "   -------------------------- ------------- 2/3 [pandas]\n",
      "   -------------------------- ------------- 2/3 [pandas]\n",
      "   -------------------------- ------------- 2/3 [pandas]\n",
      "   -------------------------- ------------- 2/3 [pandas]\n",
      "   -------------------------- ------------- 2/3 [pandas]\n",
      "   -------------------------- ------------- 2/3 [pandas]\n",
      "   -------------------------- ------------- 2/3 [pandas]\n",
      "   -------------------------- ------------- 2/3 [pandas]\n",
      "   -------------------------- ------------- 2/3 [pandas]\n",
      "   -------------------------- ------------- 2/3 [pandas]\n",
      "   -------------------------- ------------- 2/3 [pandas]\n",
      "   -------------------------- ------------- 2/3 [pandas]\n",
      "   -------------------------- ------------- 2/3 [pandas]\n",
      "   -------------------------- ------------- 2/3 [pandas]\n",
      "   -------------------------- ------------- 2/3 [pandas]\n",
      "   -------------------------- ------------- 2/3 [pandas]\n",
      "   -------------------------- ------------- 2/3 [pandas]\n",
      "   -------------------------- ------------- 2/3 [pandas]\n",
      "   -------------------------- ------------- 2/3 [pandas]\n",
      "   -------------------------- ------------- 2/3 [pandas]\n",
      "   -------------------------- ------------- 2/3 [pandas]\n",
      "   -------------------------- ------------- 2/3 [pandas]\n",
      "   -------------------------- ------------- 2/3 [pandas]\n",
      "   -------------------------- ------------- 2/3 [pandas]\n",
      "   -------------------------- ------------- 2/3 [pandas]\n",
      "   -------------------------- ------------- 2/3 [pandas]\n",
      "   -------------------------- ------------- 2/3 [pandas]\n",
      "   -------------------------- ------------- 2/3 [pandas]\n",
      "   -------------------------- ------------- 2/3 [pandas]\n",
      "   -------------------------- ------------- 2/3 [pandas]\n",
      "   -------------------------- ------------- 2/3 [pandas]\n",
      "   -------------------------- ------------- 2/3 [pandas]\n",
      "   ---------------------------------------- 3/3 [pandas]\n",
      "\n",
      "Successfully installed pandas-2.3.3 pytz-2025.2 tzdata-2025.2\n",
      "Note: you may need to restart the kernel to use updated packages.\n"
     ]
    },
    {
     "name": "stderr",
     "output_type": "stream",
     "text": [
      "\n",
      "[notice] A new release of pip is available: 25.2 -> 25.3\n",
      "[notice] To update, run: C:\\Users\\user\\AppData\\Local\\Microsoft\\WindowsApps\\PythonSoftwareFoundation.Python.3.13_qbz5n2kfra8p0\\python.exe -m pip install --upgrade pip\n"
     ]
    }
   ],
   "source": [
    "pip install pandas"
   ]
  },
  {
   "cell_type": "code",
   "execution_count": 16,
   "id": "9db694c5",
   "metadata": {},
   "outputs": [],
   "source": [
    "import pandas as pd"
   ]
  },
  {
   "cell_type": "code",
   "execution_count": 17,
   "id": "c6efb55b",
   "metadata": {},
   "outputs": [
    {
     "name": "stdout",
     "output_type": "stream",
     "text": [
      "          Model  Year         Region   Color Fuel_Type Transmission  \\\n",
      "0      5 Series  2016           Asia     Red    Petrol       Manual   \n",
      "1            i8  2013  North America     Red    Hybrid    Automatic   \n",
      "2      5 Series  2022  North America    Blue    Petrol    Automatic   \n",
      "3            X3  2024    Middle East    Blue    Petrol    Automatic   \n",
      "4      7 Series  2020  South America   Black    Diesel       Manual   \n",
      "...         ...   ...            ...     ...       ...          ...   \n",
      "49995        i3  2014           Asia     Red    Hybrid       Manual   \n",
      "49996        i3  2023    Middle East  Silver  Electric       Manual   \n",
      "49997  5 Series  2010    Middle East     Red    Petrol    Automatic   \n",
      "49998        i3  2020           Asia   White  Electric    Automatic   \n",
      "49999        X1  2020  North America    Blue    Diesel       Manual   \n",
      "\n",
      "       Engine_Size_L  Mileage_KM  Price_USD  Sales_Volume Sales_Classification  \n",
      "0                3.5      151748      98740          8300                 High  \n",
      "1                1.6      121671      79219          3428                  Low  \n",
      "2                4.5       10991     113265          6994                  Low  \n",
      "3                1.7       27255      60971          4047                  Low  \n",
      "4                2.1      122131      49898          3080                  Low  \n",
      "...              ...         ...        ...           ...                  ...  \n",
      "49995            4.6      151030      42932          8182                 High  \n",
      "49996            4.2      147396      48714          9816                 High  \n",
      "49997            4.5      174939      46126          8280                 High  \n",
      "49998            3.8        3379      58566          9486                 High  \n",
      "49999            3.3      171003      77492          1764                  Low  \n",
      "\n",
      "[50000 rows x 11 columns]\n"
     ]
    }
   ],
   "source": [
    "df = pd.read_csv(r\"C:\\Users\\user\\Downloads\\BMW sales data (2010-2024) (1).csv\")\n",
    "print (df)"
   ]
  },
  {
   "cell_type": "code",
   "execution_count": 29,
   "id": "a4f11edb",
   "metadata": {},
   "outputs": [
    {
     "data": {
      "image/png": "[encoded data removed]",
      "text/plain": [
       "<Figure size 1500x600 with 1 Axes>"
      ]
     },
     "metadata": {},
     "output_type": "display_data"
    }
   ],
   "source": [
    "num_cols = df.select_dtypes(include=['number']).columns\n",
    "if len(num_cols) >= 2:\n",
    "    plt.figure(figsize=(15,6))\n",
    "    plt.bar(df[num_cols[0]], df[num_cols[4]], color='Green')\n",
    "    plt.title(f\"Bar Graph: {num_cols[0]} vs {num_cols[4]}\")\n",
    "    plt.xlabel(num_cols[0])\n",
    "    plt.ylabel(num_cols[4])\n",
    "    plt.show()"
   ]
  },
  {
   "cell_type": "code",
   "execution_count": 34,
   "id": "fb4c4a89",
   "metadata": {},
   "outputs": [
    {
     "data": {
      "image/png": "[encoded data removed]",
      "text/plain": [
       "<Figure size 1500x600 with 1 Axes>"
      ]
     },
     "metadata": {},
     "output_type": "display_data"
    }
   ],
   "source": [
    "df_grouped = df.groupby('Year')['Sales_Volume'].sum().reset_index()\n",
    "plt.figure(figsize=(15, 6))\n",
    "plt.bar(df_grouped['Year'], df_grouped['Sales_Volume'], color='blue')\n",
    "plt.title(\"Bar Graph: Year vs Total Sales Volume\")\n",
    "plt.xlabel(\"Year\")\n",
    "plt.ylabel(\"Total Sales Volume in Cr\")\n",
    "plt.show()"
   ]
  },
  {
   "cell_type": "code",
   "execution_count": 38,
   "id": "b3623347",
   "metadata": {},
   "outputs": [
    {
     "data": {
      "image/png": "[encoded data removed]",
      "text/plain": [
       "<Figure size 1500x600 with 1 Axes>"
      ]
     },
     "metadata": {},
     "output_type": "display_data"
    }
   ],
   "source": [
    "df_grouped = df.groupby('Year')['Sales_Volume'].sum().reset_index()\n",
    "plt.figure(figsize=(15, 6))\n",
    "plt.plot(df_grouped['Year'], df_grouped['Sales_Volume'], color='Blue')\n",
    "plt.title(\"Line Graph: Year vs Total Sales Volume\")\n",
    "plt.xlabel(\"Year\")\n",
    "plt.ylabel(\"Total Sales Volume in Cr\")\n",
    "plt.show()"
   ]
  },
  {
   "cell_type": "code",
   "execution_count": 39,
   "id": "cc55723b",
   "metadata": {},
   "outputs": [
    {
     "data": {
      "image/png": "[encoded data removed]",
      "text/plain": [
       "<Figure size 1500x600 with 1 Axes>"
      ]
     },
     "metadata": {},
     "output_type": "display_data"
    }
   ],
   "source": [
    "df_grouped = df.groupby('Year')['Sales_Volume'].sum().reset_index()\n",
    "plt.figure(figsize=(15, 6))\n",
    "plt.scatter(df_grouped['Year'], df_grouped['Sales_Volume'], color='Blue')\n",
    "plt.title(\"Scatter plot: Year vs Total Sales Volume\")\n",
    "plt.xlabel(\"Year\")\n",
    "plt.ylabel(\"Total Sales Volume in Cr\")\n",
    "plt.show()"
   ]
  },
  {
   "cell_type": "code",
   "execution_count": 58,
   "id": "3af5e1ae",
   "metadata": {},
   "outputs": [
    {
     "data": {
      "image/png": "[encoded data removed]",
      "text/plain": [
       "<Figure size 1000x800 with 1 Axes>"
      ]
     },
     "metadata": {},
     "output_type": "display_data"
    }
   ],
   "source": [
    "cat_cols = df.select_dtypes(exclude=['number']).columns\n",
    "if len(cat_cols) >= 4 and len(num_cols) >= 4:\n",
    "    plt.figure(figsize=(10,8))\n",
    "    df.groupby(cat_cols[1])[num_cols[4]].sum().plot.pie(autopct='%1.1f%%', cmap='cool')\n",
    "    plt.title(f\"Pie Chart of {num_cols[4]} by {cat_cols[1]}\")\n",
    "    plt.ylabel('')\n",
    "    plt.show()\n",
    "else:\n",
    "    print(\"No suitable categorical column found for pie chart.\")"
   ]
  },
  {
   "cell_type": "code",
   "execution_count": null,
   "id": "8c2596fd",
   "metadata": {},
   "outputs": [
    {
     "data": {
      "image/png": "[encoded data removed]",
      "text/plain": [
       "<Figure size 1000x800 with 1 Axes>"
      ]
     },
     "metadata": {},
     "output_type": "display_data"
    }
   ],
   "source": [
    "cat_cols = df.select_dtypes(exclude=['number']).columns\n",
    "if len(cat_cols) >= 4 and len(num_cols) >= 4:\n",
    "    plt.figure(figsize=(10,8))\n",
    "    df.groupby(cat_cols[0])[num_cols[4]].sum().plot.pie(autopct='%1.1f%%', cmap='cool')\n",
    "    plt.title(f\"Pie Chart of {num_cols[4]} by {cat_cols[0]}\")\n",
    "    plt.ylabel('')\n",
    "    plt.show()\n",
    "    "
   ]
  },
  {
   "cell_type": "code",
   "execution_count": null,
   "id": "abaf32ee",
   "metadata": {},
   "outputs": [],
   "source": []
  }
 ],
 "metadata": {
  "kernelspec": {
   "display_name": "Python 3",
   "language": "python",
   "name": "python3"
  },
  "language_info": {
   "codemirror_mode": {
    "name": "ipython",
    "version": 3
   },
   "file_extension": ".py",
   "mimetype": "text/x-python",
   "name": "python",
   "nbconvert_exporter": "python",
   "pygments_lexer": "ipython3",
   "version": "3.13.9"
  }
 },
 "nbformat": 4,
 "nbformat_minor": 5
}
